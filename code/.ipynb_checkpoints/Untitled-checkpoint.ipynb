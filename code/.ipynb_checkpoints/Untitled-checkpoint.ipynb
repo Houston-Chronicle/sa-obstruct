{
 "cells": [
  {
   "cell_type": "code",
   "execution_count": 1,
   "id": "fba0481c-a71c-49ed-b851-7d3ea81fa15e",
   "metadata": {},
   "outputs": [],
   "source": [
    "import pandas as pd\n",
    "\n",
    "pd.set_option('display.max_columns', None)\n",
    "pd.set_option('display.max_rows', None)"
   ]
  },
  {
   "cell_type": "code",
   "execution_count": 2,
   "id": "4570aa76-4fd8-4a94-a2e6-389f15416acd",
   "metadata": {},
   "outputs": [
    {
     "name": "stderr",
     "output_type": "stream",
     "text": [
      "/Users/akanik/.local/share/virtualenvs/sa-dwi-TefTvyQB/lib/python3.9/site-packages/IPython/core/interactiveshell.py:3441: DtypeWarning: Columns (18) have mixed types.Specify dtype option on import or set low_memory=False.\n",
      "  exec(code_obj, self.user_global_ns, self.user_ns)\n"
     ]
    }
   ],
   "source": [
    "fel = pd.read_csv('../data/felony/sexual-assault/DC_cjjorad_a_b.csv', on_bad_lines='warn')"
   ]
  },
  {
   "cell_type": "code",
   "execution_count": 4,
   "id": "6b11c7d8-14f2-4952-8a40-8d0662716e55",
   "metadata": {},
   "outputs": [
    {
     "data": {
      "text/plain": [
       "CASE-CAUSE-NBR                  object\n",
       "FULL-NAME                       object\n",
       "ALIAS                           object\n",
       "SEX                             object\n",
       "RACE                            object\n",
       "BIRTHDATE                       object\n",
       "SID                              int64\n",
       "JUDICIAL-NBR                     int64\n",
       "ADDR-HOUSE-NBR                  object\n",
       "HOUSE-SUF                       object\n",
       "ADDR-PRE-DIRECTION              object\n",
       "ADDR-STREET                     object\n",
       "ADDR-STREET-SUFFIX              object\n",
       "ADDR-POST-DIRECTION             object\n",
       "ADDR-UNIT                       object\n",
       "ADDR-CITY                       object\n",
       "ADDR-STATE                      object\n",
       "ADDR-ZIP-CODE                    int64\n",
       "ADDR-ZIP-PLUS-4                 object\n",
       "OFFENSE-DATE                    object\n",
       "OFFENSE-CODE                     int64\n",
       "OFFENSE-DESC                    object\n",
       "OFFENSE-TYPE                    object\n",
       "REDUCED-OFFENSE-CODE             int64\n",
       "REDUCED-OFFENSE-DESC            object\n",
       "REDUCED-OFFENSE-TYPE            object\n",
       "LOCATION                        object\n",
       "CUSTODY-DATE                    object\n",
       "COMPLAINT-DATE                   int64\n",
       "FILING-AGENCY-DESCRIPTION       object\n",
       "CASE-DATE                       object\n",
       "CASE-DESC                       object\n",
       "SETTING-DATE                    object\n",
       "SETTING-TYPE                    object\n",
       "G-JURY-DATE                     object\n",
       "G-JURY-STATUS                   object\n",
       "DISPOSITION-DATE                object\n",
       "DISPOSITION-CODE                 int64\n",
       "DISPOSITION-DESC                object\n",
       "JUDGEMENT-DATE                  object\n",
       "JUDGEMENT-CODE                   int64\n",
       "JUDGEMENT-DESC                  object\n",
       "SENTENCE-DESC                   object\n",
       "SENTENCE                         int64\n",
       "SENTENCE-START-DATE             object\n",
       "SENTENCE-END-DATE               object\n",
       "FINE-AMOUNT                    float64\n",
       "COURT-COSTS                    float64\n",
       "COURT-TYPE                      object\n",
       "COURT                           object\n",
       "POST-JUDICIAL-FIELD             object\n",
       "POST-JUDICIAL-DATE              object\n",
       "BOND-DATE                       object\n",
       "BOND-STATUS                     object\n",
       "BOND-AMOUNT                    float64\n",
       "BONDSMAN-NAME                   object\n",
       "ATTORNEY                        object\n",
       "ATTORNEY-BAR-NBR                 int64\n",
       "ATTORNEY-APPOINTED-RETAINED     object\n",
       "INTAKE-PROSECUTOR               object\n",
       "OUTTAKE-PROSECUTOR              object\n",
       "PROBATION-PROSECUTOR            object\n",
       "REVOKATION-PROSECUTOR           object\n",
       "ORIGINAL-SENTENCE               object\n",
       "Unnamed: 64                    float64\n",
       "dtype: object"
      ]
     },
     "execution_count": 4,
     "metadata": {},
     "output_type": "execute_result"
    }
   ],
   "source": [
    "fel.dtypes"
   ]
  },
  {
   "cell_type": "code",
   "execution_count": null,
   "id": "bd33d860-4dab-4d44-8a82-7a44991e31e4",
   "metadata": {},
   "outputs": [],
   "source": []
  }
 ],
 "metadata": {
  "kernelspec": {
   "display_name": "Python 3 (ipykernel)",
   "language": "python",
   "name": "python3"
  },
  "language_info": {
   "codemirror_mode": {
    "name": "ipython",
    "version": 3
   },
   "file_extension": ".py",
   "mimetype": "text/x-python",
   "name": "python",
   "nbconvert_exporter": "python",
   "pygments_lexer": "ipython3",
   "version": "3.9.5"
  }
 },
 "nbformat": 4,
 "nbformat_minor": 5
}
