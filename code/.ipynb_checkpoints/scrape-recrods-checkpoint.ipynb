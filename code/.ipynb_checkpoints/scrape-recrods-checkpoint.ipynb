{
 "cells": [
  {
   "cell_type": "code",
   "execution_count": null,
   "id": "74976bb2-f4e5-44b0-8915-30bf1eac0cf9",
   "metadata": {},
   "outputs": [],
   "source": [
    "import pandas as pd\n",
    "import requests\n",
    "from bs4 import BeautifulSoup\n",
    "import io\n",
    "import os"
   ]
  },
  {
   "cell_type": "code",
   "execution_count": null,
   "id": "1bfcc5fa-5019-42aa-8fdb-13c029311a0e",
   "metadata": {},
   "outputs": [],
   "source": [
    "headers = {\n",
    "    'Access-Control-Allow-Origin': '*',\n",
    "    'Access-Control-Allow-Methods': 'GET',\n",
    "    'Access-Control-Allow-Headers': 'Content-Type',\n",
    "    'Access-Control-Max-Age': '3600',\n",
    "    'User-Agent': 'Mozilla/5.0 (X11; Ubuntu; Linux x86_64; rv:52.0) Gecko/20100101 Firefox/52.0'\n",
    "    }\n",
    "\n",
    "pd.set_option('display.max_columns', None)\n",
    "pd.set_option('display.max_rows', None)"
   ]
  },
  {
   "cell_type": "markdown",
   "id": "373f8312-2620-48f2-8b56-187832202830",
   "metadata": {},
   "source": [
    "Certificate issues: all of a sudden, we started having certificate issues with our scraping requests. I'm going to blame Ryan for his amazing 30+ hr scraping fest. :)\n",
    "\n",
    "Here's what we're trying to circumvent those issues: https://levelup.gitconnected.com/solve-the-dreadful-certificate-issues-in-python-requests-module-2020d922c72f"
   ]
  },
  {
   "cell_type": "markdown",
   "id": "d777bb24-4d7a-4d69-91dc-0155e2e49c92",
   "metadata": {},
   "source": [
    "## Filtering\n",
    "Here are the filters that are going to help us reduce each file before we concatenate it onto the master DWI misdemeanor or felany file. The following is from Marina, and she says to remember that the search terms are partial phrases so use `contains` when you're filtering by description.\n",
    "\n",
    "### Words/phrases to search for offense descriptions: \n",
    "\n",
    "****misdemeanors*****\n",
    "\n",
    "- DUI\n",
    "- DWI\n",
    "- DRV\n",
    "- DRIV\n",
    "- Driving while intox\n",
    "- Obstruct highway\n",
    "- Obstruct passageway\n",
    " \n",
    "****felonies*****\n",
    " \n",
    "- DWI\n",
    "- Driving while intoxicated\n",
    "- Driv \n",
    "- Intox\n",
    " \n",
    "### Offense codes\n",
    " \n",
    "****misdemeanors***** \n",
    " \n",
    "- 530720 -- obstruct passageway/roadway\n",
    "- 530721 -- obstruct highway-intoxication\n",
    " \n",
    "- 540400 -- driving while intoxicated\n",
    "- 540401 -- driving while intoxicated \n",
    "- 540403 -- driving while intoxicated 1st\n",
    "- 540404 -- driving while intoxicated 2nd \n",
    "- 540406 -- driving while intoxicated SB \n",
    "- 540408 -- drv while intox-open container\n",
    "- 540409 -- driving while intoxicated \n",
    "- 540410 -- driving while intox-open can \n",
    "- 540411 -- driving while intoxicated-2d\n",
    "- 540412 -- driving while intoxicated-2d/m and 3d/m\n",
    "- 540416 -- dwi w/bac 0.15 or higher\n",
    "- 540431 -- DUI - alcohol - minor\n",
    "- 540510 -- DWLI - enhanced   and DWLS - enhanced \n",
    "\n",
    "****felonies***** \n",
    " \n",
    "- 90901 -- intoxication manslaughter\n",
    "- 90902 -- intox manslaughter - publ serv\n",
    "- 139901 -- intoxication assault\n",
    "- 139902 -- intox assault-p/s - sbi \n",
    "- 540400 --driving while intoxicated \n",
    "- 540401 -- driving while intoxicated \n",
    "- 540402 -- driving while intoxicated\n",
    "- 540403 -- driving while intoxicated 1st \n",
    "- 540405 -- driving while intoxicated 3rd -- driving while intoxicated 3r\n",
    "- 540411 -- driving while intoxicated-2d\n",
    "- 540412 -- driving while intoxicated-3d/m \n",
    "- 540413 -- intoxication assault \n",
    "- 540414 -- driv while intox-w/child < 15"
   ]
  },
  {
   "cell_type": "markdown",
   "id": "35e0660b-e612-4f78-a25e-4717cfd246ca",
   "metadata": {},
   "source": [
    "She seems to suggest that we filter two different ways and get a combination of records that are in either one or both of those filtered datasets.\n",
    "\n",
    "But you probably should do some routine cleaning too:\n",
    "- make everything all caps or all lower\n",
    "- remove double and maybe triple spaces"
   ]
  },
  {
   "cell_type": "markdown",
   "id": "0387bb34-1a01-481e-ba8c-8d4a6ceb0cff",
   "metadata": {},
   "source": [
    "## MISDEMEANORS"
   ]
  },
  {
   "cell_type": "markdown",
   "id": "20fb9bfc-06a5-40c0-b95f-bddcfe17c845",
   "metadata": {},
   "source": [
    "### Download all the misdemeanor data"
   ]
  },
  {
   "cell_type": "code",
   "execution_count": null,
   "id": "fa8cf47f-9b8b-4497-9387-699b09d2387c",
   "metadata": {},
   "outputs": [],
   "source": [
    "url = 'https://www.bexar.org/2923/Misdemeanor-Records'\n",
    "req = requests.get(url, headers, verify='./bexar-consolidate.pem')\n",
    "\n",
    "soup = BeautifulSoup(req.content, 'html.parser')\n",
    "docs_list = soup.find(class_='id6073f697-8a50-445c-a25a-c750e3d83b77')\n",
    "\n",
    "for doc_link in docs_list.find_all('a'):\n",
    "    \n",
    "    download_url = doc_link.get('href')\n",
    "    outpath = '../data/misdemeanors/'+ download_url.replace('http://edocs.bexar.org/cc/','')\n",
    "    print(download_url)\n",
    "\n",
    "    x = requests.get(download_url, verify = False)\n",
    "    url_content = x.content\n",
    "\n",
    "    csv_file = open(outpath, 'wb')\n",
    "\n",
    "    csv_file.write(url_content)\n",
    "    csv_file.close()"
   ]
  },
  {
   "cell_type": "markdown",
   "id": "8c356d5c-eef7-4368-92fe-b4b8eb0f2b11",
   "metadata": {},
   "source": [
    "### Pull DWI records out of the misdemeanor data from our downloaded files"
   ]
  },
  {
   "cell_type": "code",
   "execution_count": null,
   "id": "bedf35d9-2020-4a76-8709-87a5200969d7",
   "metadata": {},
   "outputs": [],
   "source": [
    "mis_desc_list = ['dui','dwi','drv','driv','driving while intox',\n",
    "                 'obstruct highway','obstruct passageway', 'intox', 'intoxication', 'alcohol']\n",
    "\n",
    "misc_code_list = [90901, 90902, 139901, 139902, 139903, 530720, 530721, 540403, 540409, 540410, 540411, 540412, 540413, \n",
    "540414, 540415, 540416, 540417, 540418, 540421, 540423, 540430, 540431, 540432, 540433, 540434, 540520]\n",
    "\n",
    "outfile = '../data/misdemeanors/bexar-misds-DWI-20191001-20191130.csv'\n",
    "\n",
    "basepath = '../data/misdemeanors/'\n",
    "\n",
    "misdemeanor_dfs = []\n",
    "for filename in os.listdir(basepath):\n",
    "    filepath = os.path.join(basepath, filename)\n",
    "    \n",
    "    if filename.endswith('.csv'):\n",
    "        print('Working on ' + filename)\n",
    "        df = pd.read_csv(filepath, error_bad_lines=False)\n",
    "\n",
    "        #add filtering cause this shit is too big\n",
    "\n",
    "        #filter by OFFENSE-CODE and OFFENSE-DESC\n",
    "        df['offense_desc_clean'] = df['OFFENSE-DESC'].str.lower().str.replace('\\s+', ' ', regex=True)\n",
    "        df = df.loc[(df['offense_desc_clean'].str.contains('|'.join(mis_desc_list))) | (df['OFFENSE-CODE'].isin(misc_code_list))]\n",
    "        #df = df.loc[(df['OFFENSE-CODE'].isin(misc_code_list))|(df['offense_desc_clean'].str.contains('|'.join(mis_desc_list))) ]\n",
    "        #df = df.loc[(df['OFFENSE-CODE'].astype(str).str.contains('|'.join(misc_code_list)))]\n",
    "\n",
    "        #filter by OFFENSE-DATE\n",
    "        df['offense_date_clean'] = pd.to_datetime(df['OFFENSE-DATE'],infer_datetime_format=True)\n",
    "        df = df.loc[df['offense_date_clean']>'2009-01-01']\n",
    "\n",
    "        print('Records kept: ',len(df))\n",
    "        #display(df.head())\n",
    "        df.to_csv('../data/misdemeanors/refined/'+filename)\n",
    "        misdemeanor_dfs.append(df)\n",
    "\n",
    "misds = pd.concat(misdemeanor_dfs)\n",
    "\n",
    "print(len(df))\n",
    "\n",
    "#print to csv\n",
    "misds.to_csv(outfile)"
   ]
  },
  {
   "cell_type": "markdown",
   "id": "b715eaa7-89ef-47e5-b5c6-84f3efec9f4f",
   "metadata": {},
   "source": [
    "## FELONIES"
   ]
  },
  {
   "cell_type": "markdown",
   "id": "407e1b28-0f08-49f9-8e77-1f3971d75c0e",
   "metadata": {},
   "source": [
    "### Download all the felony data"
   ]
  },
  {
   "cell_type": "markdown",
   "id": "1a08cc49-72c6-4c5c-9338-68dea4600eef",
   "metadata": {},
   "source": [
    "The following is a version of the felony records scraper script I wrote for Emilie Easton. This scrapes sexual assault cases, not DWI cases. You'll want to comment out the DWI descriptions and codes before you run for that project. "
   ]
  },
  {
   "cell_type": "code",
   "execution_count": null,
   "id": "0b9047c6-79ea-4a49-92a1-ca67c2fde0e2",
   "metadata": {},
   "outputs": [],
   "source": [
    "url = 'https://www.bexar.org/2988/Online-District-Clerk-Criminal-Records'\n",
    "req = requests.get(url, headers, verify='./bexar-consolidate.pem')\n",
    "\n",
    "soup = BeautifulSoup(req.content, 'html.parser')\n",
    "docs_list = soup.find(id='graphicLinkWidget1fb208c8-8ef9-4403-b98a-e773308f98d0')\n",
    "\n",
    "for doc_link in docs_list.find_all('a'):\n",
    "    \n",
    "    download_url = doc_link.get('href')\n",
    "    outpath = '../data/felony/'+ download_url.replace('https://edocs.bexar.org/cc/','')\n",
    "    print(download_url)\n",
    "\n",
    "    x = requests.get(download_url, verify = False)\n",
    "    url_content = x.content\n",
    "\n",
    "    csv_file = open(outpath, 'wb')\n",
    "\n",
    "    csv_file.write(url_content)\n",
    "    csv_file.close()"
   ]
  },
  {
   "cell_type": "markdown",
   "id": "583991f7-0906-46d0-bbd9-8f6d3a85a745",
   "metadata": {},
   "source": [
    "### Pull DWI records out of the felony data from our downloaded files"
   ]
  },
  {
   "cell_type": "code",
   "execution_count": null,
   "id": "dc1da197-07fb-4964-b142-e923d4769b4d",
   "metadata": {},
   "outputs": [],
   "source": [
    "#felony records: https://www.bexar.org/2988/Online-District-Clerk-Criminal-Records\n",
    "#get all divs with class widgetItem\n",
    "#list href from first a element within widgetItem element\n",
    "#add to list so we can bulk download with a single script\n",
    "\n",
    "#the file you want to create from your scraped, filtered records\n",
    "outfile = '../data/felony/bexar-felony-dwi-20191001-20191130.csv'\n",
    "\n",
    "# CAUTION, these are sexual assault codes and descriptions. Comment these out\n",
    "# and activate the DWI codes and descriptions below in order to use for DWI project\n",
    "#fel_desc_list = ['sex assault','sexual assault']\n",
    "#fel_code_list = [110010, 110011, 110012, 110020, 110021, 110041, 360108,\n",
    "                   # 360111, 360112, 360114, 360502, 361250, 361251, 361252]\n",
    "\n",
    "# THESE ARE THE DWI CODES/DESCRIPTIONS\n",
    "fel_desc_list = ['dwi','driving while intoxicated','driv','intox']\n",
    "fel_code_list = [90901, 90902, 139901, 139902, 139903, 530720, 530721, 540403, 540409, 540410, 540411, 540412, 540413, \n",
    "540414, 540415, 540416, 540417, 540418, 540421, 540423, 540430, 540431, 540432, 540433, 540434, 540520]\n",
    "\n",
    "basepath = '../data/felony/'\n",
    "\n",
    "felony_dfs = []\n",
    "for filename in os.listdir(basepath):\n",
    "    filepath = os.path.join(basepath, filename)\n",
    "    \n",
    "    if filename.endswith('.csv'):\n",
    "        print('Working on ' + filename)\n",
    "        df = pd.read_csv(filepath)\n",
    "\n",
    "        #filter by OFFENSE-CODE and OFFENSE-DESC\n",
    "        df['offense_desc_clean'] = df['OFFENSE-DESC'].str.lower().str.replace('\\s+', ' ', regex=True)\n",
    "        df = df.loc[(df['offense_desc_clean'].str.contains('|'.join(fel_desc_list))) | (df['OFFENSE-CODE'].isin(fel_code_list))]\n",
    "\n",
    "\n",
    "        #filter by OFFENSE-DATE\n",
    "        df['offense_date_clean'] = pd.to_datetime(df['OFFENSE-DATE'],infer_datetime_format=True)\n",
    "        df = df.loc[df['offense_date_clean']>'2009-01-01']\n",
    "\n",
    "        print('Records kept: ',len(df))\n",
    "        df.to_csv('../data/felony/refined/'+filename)\n",
    "        felony_dfs.append(df)\n",
    "\n",
    "fels = pd.concat(felony_dfs)\n",
    "\n",
    "#print to csv\n",
    "fels.to_csv(outfile)"
   ]
  },
  {
   "cell_type": "markdown",
   "id": "8d29baf7-51b6-4681-bd21-1261aaa8eca7",
   "metadata": {},
   "source": [
    "## ANALYSIS"
   ]
  },
  {
   "cell_type": "markdown",
   "id": "9bd29caf-add2-4f0a-a1fe-57de7df0d865",
   "metadata": {},
   "source": [
    "### General shit to remember\n",
    "\n",
    "Get a count on blanks for all these columns that you're grouping by. So make sure you know the universe before you get the stat."
   ]
  },
  {
   "cell_type": "code",
   "execution_count": null,
   "id": "4bfc1b36-8903-4804-8a01-73c289b5d2a6",
   "metadata": {},
   "outputs": [],
   "source": [
    "misds[['last_name','first_name']] = misds['FULL-NAME'].str.rsplit(',',n=1,expand=True)\n",
    "misds['offense_year'] = pd.DatetimeIndex(misds['OFFENSE-DATE']).year"
   ]
  },
  {
   "cell_type": "code",
   "execution_count": null,
   "id": "6d9887b8-0aa4-44bb-8ad1-67b6d2877e80",
   "metadata": {},
   "outputs": [],
   "source": [
    "print(len(misds))\n",
    "print(misds.offense_date_clean.max())\n",
    "print(misds.offense_date_clean.min())\n",
    "display(misds.tail())"
   ]
  },
  {
   "cell_type": "markdown",
   "id": "aec100c4-2b79-4813-b66b-b9c6713b9c5a",
   "metadata": {},
   "source": [
    "### Sorted by top offense amounts"
   ]
  },
  {
   "cell_type": "code",
   "execution_count": null,
   "id": "c7363005-1396-4632-9437-b827bf3100b8",
   "metadata": {},
   "outputs": [],
   "source": [
    "misds.sort_values('FINE-AMOUNT',ascending=False).head()[['']]"
   ]
  },
  {
   "cell_type": "code",
   "execution_count": null,
   "id": "758c8fff-bab7-4db7-a3bb-1a10f2270dc6",
   "metadata": {},
   "outputs": [],
   "source": [
    "misds.loc[(misds['SID'] == 825681)]"
   ]
  },
  {
   "cell_type": "markdown",
   "id": "905f68cc-eb3f-4bf6-b7c8-737d3be14db1",
   "metadata": {},
   "source": [
    "### Grouped by race\n",
    "\n",
    "Marina is going to go down to the courthouse and ask the people there what all of the race codes mean."
   ]
  },
  {
   "cell_type": "code",
   "execution_count": null,
   "id": "9eb54e1d-405c-403e-89c3-f3fcc2d8f7f0",
   "metadata": {},
   "outputs": [],
   "source": [
    "misds.groupby('RACE')['CASE-CAUSE-NBR'].count()"
   ]
  },
  {
   "cell_type": "markdown",
   "id": "c2bcff27-da10-40d2-9532-e2cecabd3f9d",
   "metadata": {},
   "source": [
    "### Grouped by gender"
   ]
  },
  {
   "cell_type": "code",
   "execution_count": null,
   "id": "b55a8171-a463-4af6-9e24-d7b1db65ac46",
   "metadata": {},
   "outputs": [],
   "source": [
    "misds.groupby('SEX')['CASE-CAUSE-NBR'].count()"
   ]
  },
  {
   "cell_type": "code",
   "execution_count": null,
   "id": "9e822e48-a1c1-4e9e-86eb-0174becf3fa4",
   "metadata": {},
   "outputs": [],
   "source": [
    "print('Female:',19086/78133)\n",
    "print('Male:',59047/78133)"
   ]
  },
  {
   "cell_type": "markdown",
   "id": "198071bd-2092-4183-9ade-b5ad43df2a4d",
   "metadata": {},
   "source": [
    "### Group by offense type"
   ]
  },
  {
   "cell_type": "code",
   "execution_count": null,
   "id": "0e1be4b0-dcf7-41e5-8083-092b4b99aa17",
   "metadata": {},
   "outputs": [],
   "source": [
    "by_type = misds.groupby('offense_desc_clean')['CASE-CAUSE-NBR'].count().reset_index().sort_values('CASE-CAUSE-NBR',ascending=False)\n",
    "by_type['pct'] = (by_type['CASE-CAUSE-NBR']/78133)*100\n",
    "\n",
    "by_type#.to_csv('../data/offense-types-to-filter.csv')"
   ]
  },
  {
   "cell_type": "markdown",
   "id": "ce40ebf5-3113-4dbc-8957-fb038cfca313",
   "metadata": {},
   "source": [
    "### Grouped by offense year"
   ]
  },
  {
   "cell_type": "code",
   "execution_count": null,
   "id": "2e982f2c-7433-47e4-8b27-2d3b94343581",
   "metadata": {},
   "outputs": [],
   "source": [
    "misds.groupby('offense_year')['CASE-CAUSE-NBR'].count().reset_index().sort_values('CASE-CAUSE-NBR',ascending=False)"
   ]
  },
  {
   "cell_type": "markdown",
   "id": "ad53b220-f9e1-46ca-920a-a06cc6995ac0",
   "metadata": {},
   "source": [
    "### Grouped by individual\n",
    "\n",
    "Maybe better to use the SID instead or in addition to this name + BOD grouping. SID might just be for booked and arrested peeps. Can figure this out by running NULL analysis on SID column. If there are null values then we know that it's not the greatest to group by.\n",
    "\n",
    "Let's pull out the number of individuals who have 4 and then 4+ DWI offenses (just DWI not obst of hwy). Then let's pull out the number of individuals who have 4 and then 4+ DWI+OOH and see how many more peeps should have been carried over to the felony side of things."
   ]
  },
  {
   "cell_type": "code",
   "execution_count": null,
   "id": "790cf6ef-025f-481f-8ed8-d251f43c3b0a",
   "metadata": {},
   "outputs": [],
   "source": [
    "misds.groupby(['last_name','first_name','SID','BIRTHDATE'])['CASE-CAUSE-NBR'].count().reset_index().sort_values('CASE-CAUSE-NBR',ascending=False).head(50)"
   ]
  },
  {
   "cell_type": "markdown",
   "id": "2e5099c0-f0b7-4abe-868e-681963edaa78",
   "metadata": {},
   "source": [
    "### Group by ATTORNEY-APPOINTED-RETAINED, RACE\n",
    "\n",
    "This could be an interesting insight into equity. Probably the peeps who can afford to hire attorneys rather than be appointed attorneys will get a better deal.\n",
    "\n",
    "So let's look at race by attorney for sure."
   ]
  },
  {
   "cell_type": "markdown",
   "id": "3de6aaf6-f821-4e33-b9ff-0f236d25bcb3",
   "metadata": {},
   "source": [
    "### Group by disposition\n",
    "\n",
    "Disposition is the outcome of the case\n",
    "\n",
    "Let's group by disposition and reduced offense to see whether people plead down (reduction) to a lesser charge and then were convicted (disposition).\n",
    "\n",
    "So groupby offense types and disposition. Of people who get first time DWIs (offense type), how many were convicted, dismissed, etc.\n",
    "\n",
    "Also groupby offense type, disposition and reduction."
   ]
  },
  {
   "cell_type": "markdown",
   "id": "22bc17c6-f081-4ee6-968a-e535aa7f75e5",
   "metadata": {},
   "source": [
    "### Group by offense-type, race, bond-status and bond-amt\n",
    "\n",
    "See if there are gaps between racial groups. Maybe also just group by race and bond-amt to see what's up there."
   ]
  },
  {
   "cell_type": "markdown",
   "id": "96deae31-7206-42eb-aeeb-5d9f437beb89",
   "metadata": {},
   "source": [
    "### Group by ATTORNEY-BAR-NBR"
   ]
  },
  {
   "cell_type": "markdown",
   "id": "84c3fedf-26a3-443b-9d6f-85cd6f0b9789",
   "metadata": {},
   "source": [
    "### Additional questions\n",
    "\n",
    "How many people have gotten three, four or five or more DWI charges over a certain time period?\n",
    "\n",
    "How does the case disposition differ between people who are represented by a privately-hired attorney vs. public offender?\n",
    "\n",
    "How many people reoffend after pleading down to obstruction of highway-intoxication? \n",
    "\n",
    "How does the conviction rate differ by court?\n",
    "\n",
    "How many people convicted of intoxication assault or intoxication manslaughter get charged with a DWI again? (I found a couple of these just poking around through the data) \n",
    "\n",
    "How many people convicted of intoxication assault/manslaughter were convicted/charged with a DWI previously?"
   ]
  },
  {
   "cell_type": "markdown",
   "id": "87bc0f1c-86c1-46f4-855e-dc580ed559be",
   "metadata": {},
   "source": [
    "### FELONY: Why are intox manslaughter cases so much lower than fatalities?\n",
    "\n",
    "The number of intox manslaughter cases each year compared to total number of alcohol-related fatalities (TXDOT)\n",
    "\n",
    "Allie you just do intox manslaughter cases by year. Marina has alcohol-related fatalities data."
   ]
  },
  {
   "cell_type": "code",
   "execution_count": null,
   "id": "1b956602-3dee-4e3a-91d2-f29211abb02b",
   "metadata": {},
   "outputs": [],
   "source": []
  }
 ],
 "metadata": {
  "kernelspec": {
   "display_name": "Python 3 (ipykernel)",
   "language": "python",
   "name": "python3"
  },
  "language_info": {
   "codemirror_mode": {
    "name": "ipython",
    "version": 3
   },
   "file_extension": ".py",
   "mimetype": "text/x-python",
   "name": "python",
   "nbconvert_exporter": "python",
   "pygments_lexer": "ipython3",
   "version": "3.9.9"
  }
 },
 "nbformat": 4,
 "nbformat_minor": 5
}
